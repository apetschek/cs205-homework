{
 "cells": [
  {
   "cell_type": "code",
   "execution_count": 1,
   "metadata": {
    "collapsed": false
   },
   "outputs": [
    {
     "name": "stdout",
     "output_type": "stream",
     "text": [
      "Populating the interactive namespace from numpy and matplotlib\n"
     ]
    }
   ],
   "source": [
    "%pylab inline\n",
    "import numpy as np\n",
    "import matplotlib.pyplot as plt \n",
    "data = sc.textFile('data.txt')"
   ]
  },
  {
   "cell_type": "code",
   "execution_count": 2,
   "metadata": {
    "collapsed": false
   },
   "outputs": [],
   "source": [
    "words = data.flatMap(lambda x: x.split()).filter(lambda x: x != x.upper())\n",
    "\n",
    "def is_number(x): #from stackoverflow...\n",
    "    try:\n",
    "        int(x)\n",
    "        return False\n",
    "    except ValueError:\n",
    "        return True\n",
    "\n",
    "words = words.filter(is_number)"
   ]
  },
  {
   "cell_type": "code",
   "execution_count": 3,
   "metadata": {
    "collapsed": false
   },
   "outputs": [],
   "source": [
    "string = words.collect()"
   ]
  },
  {
   "cell_type": "code",
   "execution_count": 4,
   "metadata": {
    "collapsed": false
   },
   "outputs": [],
   "source": [
    "trips = []\n",
    "for i in range(len(string)-2):\n",
    "    trips.append(((string[i],string[i+1]),(string[i+2])))"
   ]
  },
  {
   "cell_type": "code",
   "execution_count": 5,
   "metadata": {
    "collapsed": false
   },
   "outputs": [],
   "source": [
    "trips = sc.parallelize(trips)"
   ]
  },
  {
   "cell_type": "code",
   "execution_count": 6,
   "metadata": {
    "collapsed": false
   },
   "outputs": [],
   "source": [
    "def count(l):\n",
    "    return [(x,l.count(x)) for x in set(l)]"
   ]
  },
  {
   "cell_type": "code",
   "execution_count": 7,
   "metadata": {
    "collapsed": false
   },
   "outputs": [],
   "source": [
    "RDD = trips.groupByKey().map(lambda x: (x[0],list(x[1])))"
   ]
  },
  {
   "cell_type": "code",
   "execution_count": 8,
   "metadata": {
    "collapsed": false
   },
   "outputs": [
    {
     "data": {
      "text/plain": [
       "[((u'smell', u'onions;'), [u'shall']),\n",
       " ((u'meantime,', u'lady,'), [u\"I'll\"]),\n",
       " ((u'a', u'master?'), [u'Bear']),\n",
       " ((u'some', u'while'), [u'a']),\n",
       " ((u'Priam', u'is'), [u'in']),\n",
       " ((u'East,', u'Say'), [u'thou,']),\n",
       " ((u'tall;', u'yet'), [u'for']),\n",
       " ((u'Should', u'hold'), [u'her', u'up']),\n",
       " ((u'until', u'meet'), [u'thee']),\n",
       " ((u'and', u\"think'st\"), [u'it'])]"
      ]
     },
     "execution_count": 8,
     "metadata": {},
     "output_type": "execute_result"
    }
   ],
   "source": [
    "RDD.take(10)"
   ]
  },
  {
   "cell_type": "code",
   "execution_count": 9,
   "metadata": {
    "collapsed": true
   },
   "outputs": [],
   "source": [
    "RDD1 = RDD.mapValues(lambda x: count(x))"
   ]
  },
  {
   "cell_type": "code",
   "execution_count": 10,
   "metadata": {
    "collapsed": false
   },
   "outputs": [
    {
     "data": {
      "text/plain": [
       "[((u'smell', u'onions;'), [(u'shall', 1)]),\n",
       " ((u'meantime,', u'lady,'), [(u\"I'll\", 1)]),\n",
       " ((u'a', u'master?'), [(u'Bear', 1)]),\n",
       " ((u'some', u'while'), [(u'a', 1)]),\n",
       " ((u'Priam', u'is'), [(u'in', 1)]),\n",
       " ((u'East,', u'Say'), [(u'thou,', 1)]),\n",
       " ((u'tall;', u'yet'), [(u'for', 1)]),\n",
       " ((u'Should', u'hold'), [(u'up', 1), (u'her', 1)]),\n",
       " ((u'until', u'meet'), [(u'thee', 1)]),\n",
       " ((u'and', u\"think'st\"), [(u'it', 1)]),\n",
       " ((u'so', u'say'),\n",
       "  [(u'And', 1),\n",
       "   (u'and', 1),\n",
       "   (u'we', 1),\n",
       "   (u'Then', 1),\n",
       "   (u'too.', 1),\n",
       "   (u\"I'll\", 1)]),\n",
       " ((u'much', u'happier.'), [(u'Thou', 1)]),\n",
       " ((u'with', u'caterpillars?'), [(u'Hold', 1)]),\n",
       " ((u'of', u'crafty'), [(u'knaves.', 1)]),\n",
       " ((u'him', u'Posthumus'), [(u'Leonatus,', 1)]),\n",
       " ((u'house,', u'unless'), [(u'you', 1)]),\n",
       " ((u'One', u'doth'), [(u'not', 1)]),\n",
       " ((u'not-', u'for'), [(u'sure,', 1)]),\n",
       " ((u'nothing', u'but'),\n",
       "  [(u'love', 1),\n",
       "   (u'vain', 1),\n",
       "   (u'some', 1),\n",
       "   (u'inexplicable', 1),\n",
       "   (u'an', 2),\n",
       "   (u'high', 1),\n",
       "   (u'words.', 1),\n",
       "   (u'his', 1),\n",
       "   (u'claret', 1),\n",
       "   (u'in', 3),\n",
       "   (u'ourselves.', 1),\n",
       "   (u'our', 2),\n",
       "   (u'himself', 1),\n",
       "   (u'shame!', 1),\n",
       "   (u'smile.', 1),\n",
       "   (u'speak', 1),\n",
       "   (u'one', 1),\n",
       "   (u'despair.', 2),\n",
       "   (u'use', 1),\n",
       "   (u'death', 1),\n",
       "   (u'conceit,', 1),\n",
       "   (u\"'Anon!'\", 1),\n",
       "   (u'love.', 1),\n",
       "   (u'roguery', 1),\n",
       "   (u'musical;', 1),\n",
       "   (u'to', 4),\n",
       "   (u'roaring.', 1),\n",
       "   (u'doves,', 1),\n",
       "   (u\"heart's\", 1),\n",
       "   (u'blows,', 1),\n",
       "   (u'heavenly', 1),\n",
       "   (u'discords.', 1),\n",
       "   (u\"cross'd!\", 1),\n",
       "   (u'prate', 1),\n",
       "   (u'reprove.', 1),\n",
       "   (u'what', 2),\n",
       "   (u'mutation-', 1),\n",
       "   (u'secrecy.', 1),\n",
       "   (u'madman.', 1),\n",
       "   (u'blood,', 1),\n",
       "   (u'doth', 1),\n",
       "   (u'eat', 1),\n",
       "   (u'a', 4),\n",
       "   (u'about', 1),\n",
       "   (u'rail;', 1),\n",
       "   (u'himself,', 1),\n",
       "   (u'of', 1),\n",
       "   (u'taking', 1),\n",
       "   (u\"confusion-ey'd\", 1),\n",
       "   (u'roast', 1),\n",
       "   (u'love,', 1),\n",
       "   (u'the', 7),\n",
       "   (u'this:', 1),\n",
       "   (u'my', 2),\n",
       "   (u'frown,', 1),\n",
       "   (u'talk', 1)]),\n",
       " ((u'do', u'beg'), [(u'of', 1), (u'his', 1), (u'your', 1)]),\n",
       " ((u'Metellus;', u'what,'), [(u'Trebonius,', 1)]),\n",
       " ((u\"man's\", u'folly'), [(u'is', 1)]),\n",
       " ((u'base', u'lackey'), [(u'peasants,', 1)]),\n",
       " ((u'promises', u'were,'), [(u'as', 1)]),\n",
       " ((u'of', u'purposes'), [(u'mistook', 1)]),\n",
       " ((u'Blood', u'to'), [(u'blood,', 1)]),\n",
       " ((u'display', u'to'), [(u'the', 1)]),\n",
       " ((u'daughter:', u'Now'), [(u'is', 1)]),\n",
       " ((u\"for't.\", u'We'), [(u'will', 1)]),\n",
       " ((u'suit,', u'Nor'), [(u'would', 1)]),\n",
       " ((u'old', u'kind'), [(u'father,', 1), (u'King,', 1)]),\n",
       " ((u'have', u\"'ticed\"), [(u'me', 1)]),\n",
       " ((u'what', u\"mean'st\"), [(u'thou', 1)]),\n",
       " ((u\"murder'd\", u'there.'), [(u'fear', 1)]),\n",
       " ((u'plays.', u'Enter'), [(u'Wine,', 1), (u'two', 1)]),\n",
       " ((u'public', u'be'), [(u'horse', 1)]),\n",
       " ((u'this', u'maze,'), [(u'Haply', 1)]),\n",
       " ((u'Insult', u'without'), [(u'all', 1)]),\n",
       " ((u'primogenity', u'and'), [(u'due', 1)]),\n",
       " ((u'horse!', u'a'), [(u'horse!', 2)]),\n",
       " ((u'quote', u'it'), [(u'in', 1)]),\n",
       " ((u'tree,', u'like'), [(u'a', 1)]),\n",
       " ((u'you', u'slept,'), [(u'my', 1)]),\n",
       " ((u'Pandulph,', u'of'), [(u'fair', 1)]),\n",
       " ((u'in', u'strange'), [(u'unquietness.', 1)]),\n",
       " ((u'in', u'Alexandria;'), [(u'you', 1)]),\n",
       " ((u'a', u'nay-word,'), [(u'that', 1)]),\n",
       " ((u'two', u'stones,'), [(u'two', 1)]),\n",
       " ((u'The', u'reasons'), [(u'of', 1), (u'you', 1), (u'are', 1)]),\n",
       " ((u'world', u'shall-'), [(u'will', 1)])]"
      ]
     },
     "execution_count": 10,
     "metadata": {},
     "output_type": "execute_result"
    }
   ],
   "source": [
    "RDD1.take(50)"
   ]
  },
  {
   "cell_type": "code",
   "execution_count": null,
   "metadata": {
    "collapsed": true
   },
   "outputs": [],
   "source": []
  },
  {
   "cell_type": "code",
   "execution_count": null,
   "metadata": {
    "collapsed": true
   },
   "outputs": [],
   "source": []
  }
 ],
 "metadata": {
  "kernelspec": {
   "display_name": "Python 2",
   "language": "python",
   "name": "python2"
  },
  "language_info": {
   "codemirror_mode": {
    "name": "ipython",
    "version": 2
   },
   "file_extension": ".py",
   "mimetype": "text/x-python",
   "name": "python",
   "nbconvert_exporter": "python",
   "pygments_lexer": "ipython2",
   "version": "2.7.10"
  }
 },
 "nbformat": 4,
 "nbformat_minor": 0
}
