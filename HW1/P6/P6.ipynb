{
 "cells": [
  {
   "cell_type": "code",
   "execution_count": 1,
   "metadata": {
    "collapsed": false
   },
   "outputs": [
    {
     "name": "stdout",
     "output_type": "stream",
     "text": [
      "Populating the interactive namespace from numpy and matplotlib\n"
     ]
    }
   ],
   "source": [
    "%pylab inline\n",
    "import numpy as np\n",
    "import matplotlib.pyplot as plt \n",
    "data = sc.textFile('data.txt')"
   ]
  },
  {
   "cell_type": "code",
   "execution_count": 2,
   "metadata": {
    "collapsed": false
   },
   "outputs": [],
   "source": [
    "words = data.flatMap(lambda x: x.split()).filter(lambda x: x != x.upper())\n",
    "\n",
    "def is_number(x): #from stackoverflow...\n",
    "    try:\n",
    "        int(x)\n",
    "        return False\n",
    "    except ValueError:\n",
    "        return True\n",
    "\n",
    "words = words.filter(is_number)"
   ]
  },
  {
   "cell_type": "code",
   "execution_count": 3,
   "metadata": {
    "collapsed": false
   },
   "outputs": [],
   "source": [
    "string = words.collect()"
   ]
  },
  {
   "cell_type": "code",
   "execution_count": 4,
   "metadata": {
    "collapsed": false
   },
   "outputs": [],
   "source": [
    "trips = []\n",
    "for i in range(len(string)-2):\n",
    "    trips.append(((string[i],string[i+1]),(string[i+2])))"
   ]
  },
  {
   "cell_type": "code",
   "execution_count": 5,
   "metadata": {
    "collapsed": false
   },
   "outputs": [],
   "source": [
    "trips = sc.parallelize(trips)"
   ]
  },
  {
   "cell_type": "code",
   "execution_count": 6,
   "metadata": {
    "collapsed": false
   },
   "outputs": [],
   "source": [
    "def count(l):\n",
    "    return [(x,l.count(x)) for x in set(l)] #stackoverflow for determining count of words occurances in a list"
   ]
  },
  {
   "cell_type": "code",
   "execution_count": 7,
   "metadata": {
    "collapsed": false
   },
   "outputs": [],
   "source": [
    "RDD = trips.groupByKey().map(lambda x: (x[0],list(x[1])))"
   ]
  },
  {
   "cell_type": "code",
   "execution_count": 8,
   "metadata": {
    "collapsed": true
   },
   "outputs": [],
   "source": [
    "Shakespeare = RDD.mapValues(lambda x: count(x))"
   ]
  },
  {
   "cell_type": "code",
   "execution_count": 9,
   "metadata": {
    "collapsed": false
   },
   "outputs": [
    {
     "data": {
      "text/plain": [
       "[((u'smell', u'onions;'), [(u'shall', 1)]),\n",
       " ((u'meantime,', u'lady,'), [(u\"I'll\", 1)]),\n",
       " ((u'a', u'master?'), [(u'Bear', 1)]),\n",
       " ((u'some', u'while'), [(u'a', 1)]),\n",
       " ((u'Priam', u'is'), [(u'in', 1)]),\n",
       " ((u'East,', u'Say'), [(u'thou,', 1)]),\n",
       " ((u'tall;', u'yet'), [(u'for', 1)]),\n",
       " ((u'Should', u'hold'), [(u'up', 1), (u'her', 1)]),\n",
       " ((u'until', u'meet'), [(u'thee', 1)]),\n",
       " ((u'and', u\"think'st\"), [(u'it', 1)])]"
      ]
     },
     "execution_count": 9,
     "metadata": {},
     "output_type": "execute_result"
    }
   ],
   "source": [
    "Shakespeare.take(10)"
   ]
  },
  {
   "cell_type": "code",
   "execution_count": 10,
   "metadata": {
    "collapsed": false
   },
   "outputs": [
    {
     "data": {
      "text/plain": [
       "[((u'Now', u'is'),\n",
       "  [(u'a', 1),\n",
       "   (u'be', 1),\n",
       "   (u'his', 1),\n",
       "   (u'that', 1),\n",
       "   (u'this', 1),\n",
       "   (u'it', 3),\n",
       "   (u'Mortimer', 1),\n",
       "   (u'the', 9),\n",
       "   (u'my', 2),\n",
       "   (u'your', 1),\n",
       "   (u'he', 1)])]"
      ]
     },
     "execution_count": 10,
     "metadata": {},
     "output_type": "execute_result"
    }
   ],
   "source": [
    "test = Shakespeare.filter(lambda x: x[0]== (u'Now', u'is'))\n",
    "test.take(20)"
   ]
  },
  {
   "cell_type": "code",
   "execution_count": 19,
   "metadata": {
    "collapsed": true
   },
   "outputs": [],
   "source": [
    "def bias(x):\n",
    "    bias_array = []\n",
    "    for i in x:\n",
    "        j = i[1]\n",
    "        for k in range(j):\n",
    "            bias_array.append(i[0])      \n",
    "    return random.choice(bias_array)"
   ]
  },
  {
   "cell_type": "code",
   "execution_count": 20,
   "metadata": {
    "collapsed": true
   },
   "outputs": [],
   "source": [
    "def markov(words):\n",
    "    prediction = []\n",
    "    #options = range(len(Shakespeare.collect()))           \n",
    "    #start_index = random.choice(options)\n",
    "    #starting_pair = Shakespeare.collect()[start_index][0]\n",
    "    starting_pair = Shakespeare.takeSample(False,1)[0][0]\n",
    "    prediction.append(str(starting_pair[0] ))\n",
    "    prediction.append(str(starting_pair[1] ))\n",
    "    i=2\n",
    "    pair = (starting_pair[0],starting_pair[1])\n",
    "    while i < (words):\n",
    "        get_options = Shakespeare.lookup(pair)\n",
    "        next_word = bias(get_options[0])\n",
    "        prediction.append(str(next_word ))\n",
    "        pair = (pair[1],next_word)\n",
    "        i+=1\n",
    "    return prediction"
   ]
  },
  {
   "cell_type": "code",
   "execution_count": 21,
   "metadata": {
    "collapsed": false
   },
   "outputs": [
    {
     "name": "stdout",
     "output_type": "stream",
     "text": [
      "['misdeeds,', 'Yet', 'execute', 'Thy', 'wrath', 'in', 'death', 'More', 'sharp', 'to', 'me', 'soon', 'at', 'night.', 'First,', 'good', 'Peter', 'Quince,', 'say', 'what']\n",
      "misdeeds, Yet execute Thy wrath in death More sharp to me soon at night. First, good Peter Quince, say what\n"
     ]
    }
   ],
   "source": [
    "Generate_Shakespeare23 = markov(20)\n",
    "print Generate_Shakespeare23\n",
    "print \" \".join(Generate_Shakespeare23)"
   ]
  },
  {
   "cell_type": "code",
   "execution_count": 23,
   "metadata": {
    "collapsed": false
   },
   "outputs": [],
   "source": [
    "Generate_Shakespeare = []\n",
    "for i in range(10):\n",
    "    Generate_Shakespeare.append(markov(20))"
   ]
  },
  {
   "cell_type": "code",
   "execution_count": 24,
   "metadata": {
    "collapsed": false
   },
   "outputs": [
    {
     "name": "stdout",
     "output_type": "stream",
     "text": [
      "maid from the worthy Lucius, good my lord. Ratcliff, fear, fear. Nay, good sweet husband! Good gentlemen, he hath done\n",
      "\n",
      "were contrary. All unavoided is the soonest winner. Tucket. Enter Once more I'll mark no words but mum: The business\n",
      "\n",
      "let fall To make this Northern youth exchange His glorious deeds but in new silk and gold; and in that\n",
      "\n",
      "seek them. Exit Another part of him become?' The Duke by law and form following. Now, sir, a strange infection\n",
      "\n",
      "without grudging; and how besides thyself? Marry, sir, come to court, stand my friend. Adieu, sir. Perdita, what have seen\n",
      "\n",
      "he enters with a wooden coffin we attend; And death's pale flag is not possible you will employ thee. As\n",
      "\n",
      "for't, my lord. Too old, by heaven! Let still the same; There is no longer endure it, though it have\n",
      "\n",
      "next ensuing. Item: That the contents will show. Say, say, who gave it to the money's worth. If then thou\n",
      "\n",
      "yet; Enough then for the rest are princes, barons, lords, and answer for me, sir, as Your Highness Shall from\n",
      "\n",
      "thus waited for. Now, Cinna; now, Metellus; what, Trebonius, have an inch narrow to an undoubted proof. It is clean\n",
      "\n"
     ]
    }
   ],
   "source": [
    "for i in range(10):\n",
    "    print \" \".join(Generate_Shakespeare[i])\n",
    "    print \"\""
   ]
  },
  {
   "cell_type": "code",
   "execution_count": null,
   "metadata": {
    "collapsed": true
   },
   "outputs": [],
   "source": []
  }
 ],
 "metadata": {
  "kernelspec": {
   "display_name": "Python 2",
   "language": "python",
   "name": "python2"
  },
  "language_info": {
   "codemirror_mode": {
    "name": "ipython",
    "version": 2
   },
   "file_extension": ".py",
   "mimetype": "text/x-python",
   "name": "python",
   "nbconvert_exporter": "python",
   "pygments_lexer": "ipython2",
   "version": "2.7.10"
  }
 },
 "nbformat": 4,
 "nbformat_minor": 0
}
