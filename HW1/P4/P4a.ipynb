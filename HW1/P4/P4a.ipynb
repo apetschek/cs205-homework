{
 "cells": [
  {
   "cell_type": "code",
   "execution_count": 1,
   "metadata": {
    "collapsed": false,
    "scrolled": true
   },
   "outputs": [
    {
     "name": "stdout",
     "output_type": "stream",
     "text": [
      "Populating the interactive namespace from numpy and matplotlib\n"
     ]
    }
   ],
   "source": [
    "%pylab inline\n",
    "import numpy as np\n",
    "import matplotlib.pyplot as plt \n",
    "data = sc.textFile('data.txt')\n",
    "Superheros = data.map(lambda word: word.split('\",')[0]).map(lambda word: word.strip('\"').encode(\"utf-8\"))\n",
    "Comics= data.map(lambda word: word.split('\",')[1]).map(lambda word: word.strip('\"').encode(\"utf-8\"))"
   ]
  },
  {
   "cell_type": "code",
   "execution_count": 2,
   "metadata": {
    "collapsed": true
   },
   "outputs": [],
   "source": [
    "RDD1= Comics.zip(Superheros)\n",
    "#K,V = Comic, Superhero"
   ]
  },
  {
   "cell_type": "code",
   "execution_count": 3,
   "metadata": {
    "collapsed": false
   },
   "outputs": [],
   "source": [
    "RDD2 = RDD1.join(RDD1)\n",
    "#K,V = Comic, Superhero\n",
    "#K,W = Comic, Superhero\n",
    "#K,(V,W) = Comic, (Superhero,Superhero)\n",
    "RDD3 = RDD2.filter(lambda x: x[1][0]!=x[1][1]).map(lambda x: (x[1][0],x[1][1])).distinct()\n",
    "RDD4 = RDD3.groupByKey()\n",
    "Graph = RDD4.map(lambda x: (x[0],list(x[1])))"
   ]
  },
  {
   "cell_type": "code",
   "execution_count": 4,
   "metadata": {
    "collapsed": false
   },
   "outputs": [
    {
     "data": {
      "text/plain": [
       "'QUESADA, JOE'"
      ]
     },
     "execution_count": 4,
     "metadata": {},
     "output_type": "execute_result"
    }
   ],
   "source": [
    "Graph.collect()[0][0]"
   ]
  },
  {
   "cell_type": "code",
   "execution_count": 54,
   "metadata": {
    "collapsed": false
   },
   "outputs": [],
   "source": [
    "SOURCE = 'CAPTAIN AMERICA'\n",
    "to_search = []\n",
    "to_search.append(SOURCE)\n",
    "bfs = {}\n",
    "bfs[SOURCE]=0\n",
    "iteration = 1\n",
    "\n",
    "while iteration <11:\n",
    "    RDD = Graph.filter(lambda x: x[0] in to_search).flatMap(lambda x: x[1]).collect()\n",
    "    unique_RDD = set(RDD).difference(set(bfs.keys()))\n",
    "    [bfs.setdefault(i,[]).append(iteration) for i in unique_RDD]   \n",
    "    toBeAdded = set([i for i in RDD])\n",
    "    #toBeAdded = toBeAdded.difference(set(to_search))\n",
    "    to_search = list(toBeAdded)\n",
    "    iteration +=1"
   ]
  },
  {
   "cell_type": "code",
   "execution_count": 55,
   "metadata": {
    "collapsed": false
   },
   "outputs": [
    {
     "name": "stdout",
     "output_type": "stream",
     "text": [
      "6408\n"
     ]
    }
   ],
   "source": [
    "print len(bfs.keys())"
   ]
  },
  {
   "cell_type": "code",
   "execution_count": 56,
   "metadata": {
    "collapsed": false
   },
   "outputs": [],
   "source": [
    "SOURCE = 'ORWELL'\n",
    "to_search = []\n",
    "to_search.append(SOURCE)\n",
    "bfs = {}\n",
    "bfs[SOURCE]=0\n",
    "iteration = 1\n",
    "\n",
    "while iteration <11:\n",
    "    RDD = Graph.filter(lambda x: x[0] in to_search).flatMap(lambda x: x[1]).collect()\n",
    "    unique_RDD = set(RDD).difference(set(bfs.keys()))\n",
    "    [bfs.setdefault(i,[]).append(iteration) for i in unique_RDD]   \n",
    "    toBeAdded = set([i for i in RDD])\n",
    "    #toBeAdded = toBeAdded.difference(set(to_search))\n",
    "    to_search = list(toBeAdded)\n",
    "    iteration +=1"
   ]
  },
  {
   "cell_type": "code",
   "execution_count": 57,
   "metadata": {
    "collapsed": false
   },
   "outputs": [
    {
     "name": "stdout",
     "output_type": "stream",
     "text": [
      "9\n"
     ]
    }
   ],
   "source": [
    "print len(bfs.keys())"
   ]
  },
  {
   "cell_type": "code",
   "execution_count": 58,
   "metadata": {
    "collapsed": false
   },
   "outputs": [],
   "source": [
    "SOURCE = 'MISS THING/MARY'\n",
    "to_search = []\n",
    "to_search.append(SOURCE)\n",
    "bfs = {}\n",
    "bfs[SOURCE]=0\n",
    "iteration = 1\n",
    "\n",
    "while iteration <11:\n",
    "    RDD = Graph.filter(lambda x: x[0] in to_search).flatMap(lambda x: x[1]).collect()\n",
    "    unique_RDD = set(RDD).difference(set(bfs.keys()))\n",
    "    [bfs.setdefault(i,[]).append(iteration) for i in unique_RDD]   \n",
    "    toBeAdded = set([i for i in RDD])\n",
    "    #toBeAdded = toBeAdded.difference(set(to_search))\n",
    "    to_search = list(toBeAdded)\n",
    "    iteration +=1"
   ]
  },
  {
   "cell_type": "code",
   "execution_count": 59,
   "metadata": {
    "collapsed": false
   },
   "outputs": [
    {
     "name": "stdout",
     "output_type": "stream",
     "text": [
      "7\n"
     ]
    }
   ],
   "source": [
    "print len(bfs.keys())"
   ]
  },
  {
   "cell_type": "code",
   "execution_count": null,
   "metadata": {
    "collapsed": true
   },
   "outputs": [],
   "source": []
  }
 ],
 "metadata": {
  "kernelspec": {
   "display_name": "Python 2",
   "language": "python",
   "name": "python2"
  },
  "language_info": {
   "codemirror_mode": {
    "name": "ipython",
    "version": 2
   },
   "file_extension": ".py",
   "mimetype": "text/x-python",
   "name": "python",
   "nbconvert_exporter": "python",
   "pygments_lexer": "ipython2",
   "version": "2.7.10"
  }
 },
 "nbformat": 4,
 "nbformat_minor": 0
}
