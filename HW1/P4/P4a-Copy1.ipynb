{
 "cells": [
  {
   "cell_type": "code",
   "execution_count": 1,
   "metadata": {
    "collapsed": false,
    "scrolled": true
   },
   "outputs": [
    {
     "name": "stdout",
     "output_type": "stream",
     "text": [
      "Populating the interactive namespace from numpy and matplotlib\n"
     ]
    }
   ],
   "source": [
    "%pylab inline\n",
    "import numpy as np\n",
    "import matplotlib.pyplot as plt \n",
    "data = sc.textFile('data.txt')\n",
    "Superheros = data.map(lambda word: word.split('\",')[0]).map(lambda word: word.strip('\"').encode(\"utf-8\"))\n",
    "Comics= data.map(lambda word: word.split('\",')[1]).map(lambda word: word.strip('\"').encode(\"utf-8\"))"
   ]
  },
  {
   "cell_type": "code",
   "execution_count": 2,
   "metadata": {
    "collapsed": false
   },
   "outputs": [],
   "source": [
    "RDD1= Comics.zip(Superheros)\n",
    "RDD2 = RDD1.join(RDD1) #K,(V,W) = Comic, (Superhero,Superhero)\n",
    "Graph = RDD2.filter(lambda x: x[1][0]!=x[1][1]).map(lambda x: (x[1][0],x[1][1])).distinct().partitionBy(20).cache()"
   ]
  },
  {
   "cell_type": "code",
   "execution_count": 3,
   "metadata": {
    "collapsed": false
   },
   "outputs": [],
   "source": [
    "SOURCE = 'ORWELL'\n",
    "node1 = [(SOURCE,0)]\n",
    "node1 = sc.parallelize(node1).partitionBy(20)\n",
    "final_rdd1 = node1\n",
    "i = 0\n",
    "while i < 2:\n",
    "    node1 = Graph.join(node1).distinct().values().mapValues(lambda x: x+1).partitionBy(20)\n",
    "    final_rdd1 = final_rdd1.union(node1).partitionBy(20)\n",
    "    #node = node.subtractByKey(final_rdd)\n",
    "    i+=1"
   ]
  },
  {
   "cell_type": "code",
   "execution_count": 4,
   "metadata": {
    "collapsed": false
   },
   "outputs": [
    {
     "data": {
      "text/plain": [
       "9"
      ]
     },
     "execution_count": 4,
     "metadata": {},
     "output_type": "execute_result"
    }
   ],
   "source": [
    "final_rdd_g1 = final_rdd1.groupByKey().mapValues(list).mapValues(lambda x: min(x)).partitionBy(20)\n",
    "final_rdd_g1.count()"
   ]
  },
  {
   "cell_type": "code",
   "execution_count": 5,
   "metadata": {
    "collapsed": true
   },
   "outputs": [],
   "source": [
    "SOURCE = 'MISS THING/MARY'\n",
    "node2 = [(SOURCE,0)]\n",
    "node2 = sc.parallelize(node2).partitionBy(20)\n",
    "final_rdd2 = node2\n",
    "i = 0\n",
    "while i < 4:\n",
    "    node2 = Graph.join(node2).distinct().values().mapValues(lambda x: x+1).partitionBy(20)\n",
    "    final_rdd2 = final_rdd2.union(node2).partitionBy(20)\n",
    "    #node = node.subtractByKey(final_rdd)\n",
    "    i+=1"
   ]
  },
  {
   "cell_type": "code",
   "execution_count": 6,
   "metadata": {
    "collapsed": false
   },
   "outputs": [
    {
     "data": {
      "text/plain": [
       "7"
      ]
     },
     "execution_count": 6,
     "metadata": {},
     "output_type": "execute_result"
    }
   ],
   "source": [
    "final_rdd_g2 = final_rdd2.groupByKey().mapValues(list).mapValues(lambda x: min(x)).partitionBy(20)\n",
    "final_rdd_g2.count()"
   ]
  },
  {
   "cell_type": "code",
   "execution_count": 7,
   "metadata": {
    "collapsed": false
   },
   "outputs": [],
   "source": [
    "SOURCE = 'CAPTAIN AMERICA'\n",
    "node3 = [(SOURCE,0)]\n",
    "node3 = sc.parallelize(node3).partitionBy(20)\n",
    "final_rdd3 = node3\n",
    "i = 0\n",
    "while i < 10:\n",
    "    node3 = Graph.join(node3).distinct().values().mapValues(lambda x: x+1).partitionBy(20)\n",
    "    final_rdd3 = final_rdd3.union(node3).partitionBy(20)\n",
    "    #node = node.subtractByKey(final_rdd)\n",
    "    i+=1"
   ]
  },
  {
   "cell_type": "code",
   "execution_count": 9,
   "metadata": {
    "collapsed": false
   },
   "outputs": [
    {
     "data": {
      "text/plain": [
       "6408"
      ]
     },
     "execution_count": 9,
     "metadata": {},
     "output_type": "execute_result"
    }
   ],
   "source": [
    "final_rdd_g3 = final_rdd3.groupByKey().mapValues(list).mapValues(lambda x: min(x)).partitionBy(20)\n",
    "final_rdd_g3.count()"
   ]
  },
  {
   "cell_type": "code",
   "execution_count": 10,
   "metadata": {
    "collapsed": false
   },
   "outputs": [
    {
     "data": {
      "text/plain": [
       "[('PENTIGAAR', 2),\n",
       " ('PARKER, MARY', 2),\n",
       " ('CONTEMPLATOR/TATH KI', 1),\n",
       " ('FLATMAN', 1),\n",
       " ('PHARAOH RAMA-TUT', 1),\n",
       " ('PROFESSOR X | MUTANT', 2),\n",
       " ('RUBY', 2),\n",
       " ('CROWN', 2),\n",
       " ('JONES, SANDY', 2),\n",
       " ('THOMAS, DR. STAN', 2)]"
      ]
     },
     "execution_count": 10,
     "metadata": {},
     "output_type": "execute_result"
    }
   ],
   "source": []
  },
  {
   "cell_type": "code",
   "execution_count": null,
   "metadata": {
    "collapsed": true
   },
   "outputs": [],
   "source": []
  }
 ],
 "metadata": {
  "kernelspec": {
   "display_name": "Python 2",
   "language": "python",
   "name": "python2"
  },
  "language_info": {
   "codemirror_mode": {
    "name": "ipython",
    "version": 2
   },
   "file_extension": ".py",
   "mimetype": "text/x-python",
   "name": "python",
   "nbconvert_exporter": "python",
   "pygments_lexer": "ipython2",
   "version": "2.7.10"
  }
 },
 "nbformat": 4,
 "nbformat_minor": 0
}
