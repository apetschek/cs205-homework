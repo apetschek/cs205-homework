{
 "cells": [
  {
   "cell_type": "code",
   "execution_count": 1,
   "metadata": {
    "collapsed": false
   },
   "outputs": [
    {
     "name": "stdout",
     "output_type": "stream",
     "text": [
      "Populating the interactive namespace from numpy and matplotlib\n"
     ]
    }
   ],
   "source": [
    "%pylab inline\n",
    "import numpy as np\n",
    "import matplotlib.pyplot as plt "
   ]
  },
  {
   "cell_type": "code",
   "execution_count": 1,
   "metadata": {
    "collapsed": false
   },
   "outputs": [
    {
     "data": {
      "text/plain": [
       "[u'\"FROST, CARMILLA\",\"AA2 35\"',\n",
       " u'\"KILLRAVEN/JONATHAN R\",\"AA2 35\"',\n",
       " u'\"M\\'SHULLA\",\"AA2 35\"']"
      ]
     },
     "execution_count": 1,
     "metadata": {},
     "output_type": "execute_result"
    }
   ],
   "source": [
    "data = sc.textFile('data.txt')\n",
    "data.take(3)"
   ]
  },
  {
   "cell_type": "code",
   "execution_count": 2,
   "metadata": {
    "collapsed": false
   },
   "outputs": [],
   "source": [
    "Superheros = data.map(lambda word: word.split('\",')[0]).map(lambda word: word.strip('\"'))\n",
    "Comics= data.map(lambda word: word.split('\",')[1]).map(lambda word: word.strip('\"'))"
   ]
  },
  {
   "cell_type": "code",
   "execution_count": 3,
   "metadata": {
    "collapsed": false
   },
   "outputs": [],
   "source": [
    "Data = Superheros.zip(Comics)\n",
    "Data2 = Comics.zip(Superheros)"
   ]
  },
  {
   "cell_type": "code",
   "execution_count": 4,
   "metadata": {
    "collapsed": false
   },
   "outputs": [],
   "source": [
    "heroRdd = Data.groupByKey().map(lambda x: (x[0],list(x[1])))\n",
    "comicRdd = Data2.groupByKey().map(lambda x: (x[0],list(x[1])))"
   ]
  },
  {
   "cell_type": "code",
   "execution_count": 6,
   "metadata": {
    "collapsed": true
   },
   "outputs": [],
   "source": [
    "#LIST\n",
    "def graph(rdd):\n",
    "    d = rdd.collect()\n",
    "    Graph = []\n",
    "    for i in range(len(d)):\n",
    "        name = d[i][0]\n",
    "        comics = d[i][1]\n",
    "        matches = set()\n",
    "        for c in comics:\n",
    "            for j in range(len(d)):\n",
    "                potential_match=d[j][0]\n",
    "                if i != j:\n",
    "                    comics_check = d[j][1]\n",
    "                    for c2 in comics_check:\n",
    "                        if c == c2:\n",
    "                            matches.update([potential_match]) \n",
    "        Graph.append([name,matches])\n",
    "    return Graph              "
   ]
  },
  {
   "cell_type": "code",
   "execution_count": 8,
   "metadata": {
    "collapsed": true
   },
   "outputs": [],
   "source": [
    "spark_test = graph(heroRdd)"
   ]
  },
  {
   "cell_type": "code",
   "execution_count": 11,
   "metadata": {
    "collapsed": false
   },
   "outputs": [],
   "source": [
    "Graph = sc.parallelize(spark_test)"
   ]
  },
  {
   "cell_type": "code",
   "execution_count": 34,
   "metadata": {
    "collapsed": false
   },
   "outputs": [
    {
     "data": {
      "text/plain": [
       "[[u'QUESADA, JOE',\n",
       "  {u\"BLACK PANTHER/T'CHAL\",\n",
       "   u'BLACK WIDOW/NATASHA ',\n",
       "   u'BLAKE, BECKY',\n",
       "   u'BUTCH',\n",
       "   u'CAPTAIN AMERICA',\n",
       "   u'DAKESIAN, NANCI',\n",
       "   u'DAREDEVIL/MATT MURDO',\n",
       "   u'DARLA',\n",
       "   u'DR. STRANGE/STEPHEN ',\n",
       "   u'EIGHTBALL',\n",
       "   u'EVERETT, BILL',\n",
       "   u'GLADIATOR/MELVIN POT',\n",
       "   u'HUMAN TORCH/JOHNNY S',\n",
       "   u'INVISIBLE WOMAN/SUE ',\n",
       "   u'LAMY, KELLY',\n",
       "   u'LEE, STAN',\n",
       "   u'MALICE V/NAKIA',\n",
       "   u'MARTINEZ, ALITHA',\n",
       "   u'MCKENZIE, LYDIA',\n",
       "   u'MILLER, FRANK',\n",
       "   u'MR. FANTASTIC/REED R',\n",
       "   u'MYSTERIO/QUENTIN BEC',\n",
       "   u'NELSON, CANDACE',\n",
       "   u'NELSON, FRANKLIN FOG',\n",
       "   u'OKOYE',\n",
       "   u'OSBORN, LIZ ALLAN',\n",
       "   u'PAGE, KAREN',\n",
       "   u'PALMIOTTI, JIMMY',\n",
       "   u'POTTER, BETSY BEATTY',\n",
       "   u'QUINN, ASHLEY',\n",
       "   u'RALF',\n",
       "   u'ROSS, EVERETT KENNET',\n",
       "   u'SHARPE, ROSALINDE',\n",
       "   u'SMITH, KEVIN',\n",
       "   u'SPIDER-MAN/PETER PAR',\n",
       "   u'THING/BENJAMIN J. GR',\n",
       "   u'URICH, BEN',\n",
       "   u'WATSON-PARKER, MARY ',\n",
       "   u'ZURI'}],\n",
       " [u'SILVER SAMURAI/KENYU',\n",
       "  {u'ALBERT',\n",
       "   u'AMIKO',\n",
       "   u'BAYMAX',\n",
       "   u'BINARY/CAROL DANVERS',\n",
       "   u'BISON/BILLY KITSON',\n",
       "   u'BIZEN',\n",
       "   u'BLACK KING/SEBASTIAN',\n",
       "   u'BLACK WIDOW/NATASHA ',\n",
       "   u'BLACKWING/JOSEPH MAN',\n",
       "   u'BLOODSCREAM',\n",
       "   u'BOOMERANG/FRED MYERS',\n",
       "   u'BRIDGE, GEORGE WASHI',\n",
       "   u'CANNONBALL II/SAM GU',\n",
       "   u'CAPTAIN AMERICA',\n",
       "   u'CARDINAL/CLEMDENON',\n",
       "   u'CARTER, JIMMY',\n",
       "   u'CATSEYE/SHARON SMITH',\n",
       "   u\"CH'OD\",\n",
       "   u'CHARCOAL/CHARLIE BUR',\n",
       "   u'CITIZEN V III/DALLAS',\n",
       "   u'COLOSSUS II/PETER RA',\n",
       "   u'CONSTRICTOR/FRANK PA',\n",
       "   u'CORSAIR',\n",
       "   u'COY, GENERAL NGUYEN ',\n",
       "   u\"CR'REEE\",\n",
       "   u'CRIMSON COWL II/',\n",
       "   u'CYCLONE II/PIERRE FR',\n",
       "   u'CYCLOPS/SCOTT SUMMER',\n",
       "   u'CYLLA II',\n",
       "   u'CYPHER/DOUG RAMSEY',\n",
       "   u'DAREDEVIL/MATT MURDO',\n",
       "   u'DARKSTAR/LAYNIA SERG',\n",
       "   u'DE LA FONTAINE, CONT',\n",
       "   u'DINAH-SOAR',\n",
       "   u'DOMINO III/BEATRICE/',\n",
       "   u'DOORMAN',\n",
       "   u'DRAGONESS',\n",
       "   u'DRAGONFLY/VERONICA D',\n",
       "   u'EEL II/EDWARD LAVELL',\n",
       "   u'ELEKTRA/ELEKTRA NATC',\n",
       "   u'ELSIE DEE',\n",
       "   u'EMPATH/MANUEL ALFONS',\n",
       "   u'EVERWRAITH/',\n",
       "   u'FIREFIST/RUSTY COLLI',\n",
       "   u'FLATMAN',\n",
       "   u'FLEX/ADRIAN CORBO',\n",
       "   u'FLYING TIGER',\n",
       "   u'FOREARM',\n",
       "   u'FURY, COL. NICHOLAS ',\n",
       "   u'GAMBIT/REMY LEBEAU ',\n",
       "   u'GENTRY',\n",
       "   u'GHOST GIRL II/LILLI',\n",
       "   u'GOGO TAMAGO/',\n",
       "   u'GRIZZLY II/THEODORE ',\n",
       "   u'GUARDIAN V/JAMES MAC',\n",
       "   u'HAMES',\n",
       "   u'HAMMER III/EISENHOWE',\n",
       "   u'HAVOK/ALEX SUMMERS ',\n",
       "   u'HAWK',\n",
       "   u'HONEY LEMON/',\n",
       "   u'HUDSON, HEATHER',\n",
       "   u'HUNTER, STEVIE',\n",
       "   u'HUXLEY, DR. HORATIO',\n",
       "   u'ICEMASTER/',\n",
       "   u'JETSTREAM/HAROUD IBN',\n",
       "   u'JOLT/HALLIE TAKAHAMA',\n",
       "   u'JONES, RICHARD MILHO',\n",
       "   u'JOYSTICK/JANICE',\n",
       "   u'JUBILEE/JUBILATION L',\n",
       "   u'KAISHEK, GOM',\n",
       "   u'KAISHEK, HAAN',\n",
       "   u'KAISHEK, KIA',\n",
       "   u'KAISHEK, YOLYN',\n",
       "   u'KAMIKAZE',\n",
       "   u\"KARMA/XI'AN COY MANH\",\n",
       "   u'KLAW/ULYSSES KLAW',\n",
       "   u'KOJIRO',\n",
       "   u'LEE, STAN',\n",
       "   u'LILANDRA NERAMANI [S',\n",
       "   u'LOCKHEED',\n",
       "   u'LODESTONE/ANDREA',\n",
       "   u'MACTAGGERT, MOIRA KI',\n",
       "   u'MAGIK/ILLYANA RASPUT',\n",
       "   u'MAGMA/AMARA AQUILLA/',\n",
       "   u'MAGNETO/MAGNUS/ERIC ',\n",
       "   u\"MAM'SELLE HEPZIBAH\",\n",
       "   u\"MAN-APE/M'BAKU\",\n",
       "   u'MAN-KILLER/KATRINA L',\n",
       "   u'MANBOT/BERNIE LACHEN',\n",
       "   u'MANDRILL/HENSLEY FAR',\n",
       "   u'MASTERMIND/JASON WYN',\n",
       "   u'MCCABE, LINDSAY',\n",
       "   u'MIRAGE II/DANIELLE M',\n",
       "   u'MOONSTONE II/KARLA S',\n",
       "   u'MORRELL, SABRINA',\n",
       "   u'MR. IMMORTAL',\n",
       "   u'NEKRA/ADRIENNE HATRO',\n",
       "   u'NELSON, CANDACE',\n",
       "   u'NELSON, FRANKLIN FOG',\n",
       "   u'NIGHT THRASHER/DUANE',\n",
       "   u'NIGHTCRAWLER/KURT WA',\n",
       "   u'NORTHSTAR/JEAN-PAUL ',\n",
       "   u'NOVA/RICHARD RIDER',\n",
       "   u\"O'DONNELL\",\n",
       "   u\"O'HARA, ROBERT IRONG\",\n",
       "   u'OSHIMA',\n",
       "   u'POLARIS/LORNA DANE',\n",
       "   u'POWER MAN/ERIK JOSTE',\n",
       "   u'POWERSURGE/ILLARION ',\n",
       "   u'PROFESSOR X/CHARLES ',\n",
       "   u'PUCK/EUGENE MILTON J',\n",
       "   u'QUARTERMAIN, CLAY',\n",
       "   u'QUICKSAND',\n",
       "   u'RADIUS/JARED CORBO',\n",
       "   u'RAZA LONGKNIFE',\n",
       "   u'REAPER II',\n",
       "   u'RED GUARDIAN V',\n",
       "   u'REIKO',\n",
       "   u'REYES, DR. CECELIA',\n",
       "   u'ROGUE /',\n",
       "   u'ROSSI, COL. MICHAEL ',\n",
       "   u'ROULETTE II/JENNY ST',\n",
       "   u'SASQUATCH/WALTER LAN',\n",
       "   u'SCARLET WITCH/WANDA ',\n",
       "   u'SCORCHER/',\n",
       "   u'SCREAMING MIMI/MELIS',\n",
       "   u'SELENE',\n",
       "   u'SHADOWCAT/KATHERINE ',\n",
       "   u'SHAMAN/MICHAEL TWOYO',\n",
       "   u'SHANG-CHI',\n",
       "   u\"SHANNA/SHANNA O'HARA\",\n",
       "   u'SHATTERFIST/',\n",
       "   u'SHOCKWAVE/LANCASTER ',\n",
       "   u'SILVER FOX II/ZORA D',\n",
       "   u'SIRYN/THERESA ROURKE',\n",
       "   u'SITWELL, JASPER',\n",
       "   u'SKIDS/SALLY BLEVINS',\n",
       "   u'SLYDE',\n",
       "   u'SOFEN, KARL AUGUST',\n",
       "   u'SOFEN, MARION',\n",
       "   u'SPIDER-MAN/PETER PAR',\n",
       "   u'SPIDER-WOMAN/JESSICA',\n",
       "   u'STOCKBRIDGE, CHARLES',\n",
       "   u'STOCKBRIDGE, DEANNA',\n",
       "   u'STORM/ORORO MUNROE S',\n",
       "   u'STROBE/',\n",
       "   u'STRYFE',\n",
       "   u'SUMMERS, MADELYNE MA',\n",
       "   u'SUMMERS, NATHAN CHRI',\n",
       "   u'SUNFIRE/SHIRO YOSHID',\n",
       "   u'SUNSPOT/ROBERTO DACO',\n",
       "   u'SUNSTROKE/',\n",
       "   u'SUPERCHARGER/',\n",
       "   u'TAI',\n",
       "   u'TAKACHIHO, HIRO',\n",
       "   u'TAKACHIHO, MRS.',\n",
       "   u'TAROT/MARIE-ANGE COL',\n",
       "   u'TEMPO',\n",
       "   u'TESSA',\n",
       "   u'THOR/DR. DONALD BLAK',\n",
       "   u'THUNDERBIRD II/JAMES',\n",
       "   u'TIGER SHARK/TODD ARL',\n",
       "   u'TSURAYABA, MATSUO',\n",
       "   u'TUPA',\n",
       "   u'TURBO II (A)/MICHIKO',\n",
       "   u'UNION JACK III/JOEY ',\n",
       "   u'VANGUARD/NICOLAI KRY',\n",
       "   u'VIPER II',\n",
       "   u'WATER WIZARD/PETE',\n",
       "   u'WATSON-PARKER, MARY ',\n",
       "   u'WEAPON X II/GARRISON',\n",
       "   u'WEAPON X III',\n",
       "   u'WHITE QUEEN/EMMA FRO',\n",
       "   u'WILDSIDE',\n",
       "   u'WOLFSBANE/RAHNE SINC',\n",
       "   u'WOLVERINE SKRULL',\n",
       "   u'WOLVERINE/LOGAN ',\n",
       "   u'WONDER MAN/SIMON WIL',\n",
       "   u'X THE UNKNOWABLE',\n",
       "   u'YASHIDA, MARIKO',\n",
       "   u'YUKIO',\n",
       "   u'ZERO'}]]"
      ]
     },
     "execution_count": 34,
     "metadata": {},
     "output_type": "execute_result"
    }
   ],
   "source": [
    "Graph.take(2)"
   ]
  },
  {
   "cell_type": "markdown",
   "metadata": {
    "collapsed": true
   },
   "source": [
    "THE ABOVE CODE USES .COLLECT in the FUNCTION SO NEED TO FIND NEW WAY OF DOING THIS"
   ]
  },
  {
   "cell_type": "code",
   "execution_count": null,
   "metadata": {
    "collapsed": true
   },
   "outputs": [],
   "source": []
  },
  {
   "cell_type": "code",
   "execution_count": null,
   "metadata": {
    "collapsed": true
   },
   "outputs": [],
   "source": []
  },
  {
   "cell_type": "code",
   "execution_count": null,
   "metadata": {
    "collapsed": true
   },
   "outputs": [],
   "source": []
  },
  {
   "cell_type": "code",
   "execution_count": null,
   "metadata": {
    "collapsed": true
   },
   "outputs": [],
   "source": []
  },
  {
   "cell_type": "code",
   "execution_count": null,
   "metadata": {
    "collapsed": true
   },
   "outputs": [],
   "source": []
  },
  {
   "cell_type": "code",
   "execution_count": null,
   "metadata": {
    "collapsed": true
   },
   "outputs": [],
   "source": []
  },
  {
   "cell_type": "code",
   "execution_count": null,
   "metadata": {
    "collapsed": true
   },
   "outputs": [],
   "source": []
  },
  {
   "cell_type": "code",
   "execution_count": null,
   "metadata": {
    "collapsed": true
   },
   "outputs": [],
   "source": []
  },
  {
   "cell_type": "code",
   "execution_count": null,
   "metadata": {
    "collapsed": true
   },
   "outputs": [],
   "source": []
  },
  {
   "cell_type": "code",
   "execution_count": null,
   "metadata": {
    "collapsed": true
   },
   "outputs": [],
   "source": []
  },
  {
   "cell_type": "code",
   "execution_count": null,
   "metadata": {
    "collapsed": true
   },
   "outputs": [],
   "source": []
  },
  {
   "cell_type": "code",
   "execution_count": null,
   "metadata": {
    "collapsed": true
   },
   "outputs": [],
   "source": []
  },
  {
   "cell_type": "code",
   "execution_count": null,
   "metadata": {
    "collapsed": true
   },
   "outputs": [],
   "source": []
  },
  {
   "cell_type": "code",
   "execution_count": null,
   "metadata": {
    "collapsed": true
   },
   "outputs": [],
   "source": []
  },
  {
   "cell_type": "code",
   "execution_count": null,
   "metadata": {
    "collapsed": false
   },
   "outputs": [],
   "source": [
    "minisuper = [[\"AJ\", (1,2)],[\"Laura\",(3,4)],[\"MB\",(1,4,5)],[\"Jay\",(1,5)]]\n",
    "minicomic = [[1,(\"AJ\",\"MB\")],[2,\"AJ\"],[3,(\"Laura\")],[4,(\"Laura\",\"MB\")],[5,(\"MB\",\"Jay\")]]\n",
    "minisuper = sc.parallelize(minisuper)\n",
    "minicomic = sc.parallelize(minicomic)\n",
    "#minigraph = sc.parallelize(zip(minisuper.collect(),minicomic.collect()))\n"
   ]
  },
  {
   "cell_type": "code",
   "execution_count": null,
   "metadata": {
    "collapsed": false
   },
   "outputs": [],
   "source": [
    "def graph(rdd1,r):\n",
    "    d = rdd1.collect()\n",
    "    d2= rdd2.collect()\n",
    "    graph = []\n",
    "    \n",
    "    for i in range(len(d)): #4\n",
    "        matches = set()\n",
    "        for j in range(len(d[i][1])):\n",
    "            for k in range(len(d2)):\n",
    "                if d[i][1][j] == d2[k][0]:\n",
    "                    #print d2[k][1]\n",
    "                    if len(d2[k][1]) > 1:\n",
    "                        for h in range(len(d2[k][1])):\n",
    "                            if d[i][0] != d2[k][1][h]:\n",
    "                                matches.update(d2[k][1][h])\n",
    "                    else:\n",
    "                        if d[i][0] != d2[k][1]:\n",
    "                            matches.update(d2[k][1])\n",
    "        graph.append([d[i][0],matches])\n",
    "    return graph"
   ]
  },
  {
   "cell_type": "code",
   "execution_count": null,
   "metadata": {
    "collapsed": true
   },
   "outputs": [],
   "source": [
    "def graph(rdd):\n",
    "    d = rdd.collect()\n",
    "    Graph = {}\n",
    "    for i in range(len(d)):\n",
    "        name = d[i][0]\n",
    "        comics = d[i][1]\n",
    "        matches = set()\n",
    "        for c in comics:\n",
    "            for j in range(len(d)):\n",
    "                potential_match=d[j][0]\n",
    "                #print potential_match\n",
    "                if i != j:\n",
    "                    comics_check = d[j][1]\n",
    "                    for c2 in comics_check:\n",
    "                        \n",
    "                        #print \"c is \" , c\n",
    "                        #print \"c2 is \" ,c2\n",
    "                        if c == c2:\n",
    "                            matches.update([potential_match])        \n",
    "        Graph[name]=matches\n",
    "    return Graph\n",
    "                   "
   ]
  },
  {
   "cell_type": "code",
   "execution_count": null,
   "metadata": {
    "collapsed": false
   },
   "outputs": [],
   "source": [
    "test2 = graph(minisuper)"
   ]
  },
  {
   "cell_type": "code",
   "execution_count": null,
   "metadata": {
    "collapsed": false
   },
   "outputs": [],
   "source": [
    "test2"
   ]
  },
  {
   "cell_type": "code",
   "execution_count": null,
   "metadata": {
    "collapsed": false
   },
   "outputs": [],
   "source": [
    "Test = mini(minisuper,minicomic)"
   ]
  },
  {
   "cell_type": "code",
   "execution_count": null,
   "metadata": {
    "collapsed": false
   },
   "outputs": [],
   "source": [
    "Graph = graph(Superheros,Comics)"
   ]
  },
  {
   "cell_type": "code",
   "execution_count": null,
   "metadata": {
    "collapsed": true
   },
   "outputs": [],
   "source": []
  }
 ],
 "metadata": {
  "kernelspec": {
   "display_name": "Python 2",
   "language": "python",
   "name": "python2"
  },
  "language_info": {
   "codemirror_mode": {
    "name": "ipython",
    "version": 2
   },
   "file_extension": ".py",
   "mimetype": "text/x-python",
   "name": "python",
   "nbconvert_exporter": "python",
   "pygments_lexer": "ipython2",
   "version": "2.7.10"
  }
 },
 "nbformat": 4,
 "nbformat_minor": 0
}
