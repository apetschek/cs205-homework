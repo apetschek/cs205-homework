{
 "cells": [
  {
   "cell_type": "code",
   "execution_count": 1,
   "metadata": {
    "collapsed": false
   },
   "outputs": [
    {
     "name": "stdout",
     "output_type": "stream",
     "text": [
      "Populating the interactive namespace from numpy and matplotlib\n"
     ]
    }
   ],
   "source": [
    "%pylab inline\n",
    "import numpy as np\n",
    "import matplotlib.pyplot as plt "
   ]
  },
  {
   "cell_type": "code",
   "execution_count": 2,
   "metadata": {
    "collapsed": false
   },
   "outputs": [
    {
     "data": {
      "text/plain": [
       "[u'aa', u'aah', u'aal']"
      ]
     },
     "execution_count": 2,
     "metadata": {},
     "output_type": "execute_result"
    }
   ],
   "source": [
    "words = sc.textFile('words.txt')\n",
    "words.take(3)"
   ]
  },
  {
   "cell_type": "code",
   "execution_count": 7,
   "metadata": {
    "collapsed": false
   },
   "outputs": [
    {
     "data": {
      "text/plain": [
       "[array([u'a', u'a'], \n",
       "       dtype='<U1'), array([u'a', u'a', u'h'], \n",
       "       dtype='<U1'), array([u'a', u'a', u'l'], \n",
       "       dtype='<U1'), array([u'a', u'a', u'i', u'i', u'l'], \n",
       "       dtype='<U1'), array([u'a', u'a', u'a', u'd', u'k', u'r', u'r', u'v'], \n",
       "       dtype='<U1'), array([u'a', u'a', u'a', u'd', u'k', u'r', u'r', u's', u'v'], \n",
       "       dtype='<U1'), array([u'a', u'a', u'd', u'f', u'l', u'o', u'r', u'w'], \n",
       "       dtype='<U1')]"
      ]
     },
     "execution_count": 7,
     "metadata": {},
     "output_type": "execute_result"
    }
   ],
   "source": [
    "wordcharacters = words.map(lambda word: sort(list(word)))\n",
    "wordcharacters.take(7)"
   ]
  },
  {
   "cell_type": "code",
   "execution_count": 85,
   "metadata": {
    "collapsed": false
   },
   "outputs": [
    {
     "data": {
      "text/plain": [
       "[u'aa', u'aah', u'aal']"
      ]
     },
     "execution_count": 85,
     "metadata": {},
     "output_type": "execute_result"
    }
   ],
   "source": [
    "SortedLetterSequence = wordcharacters.map(lambda x: \"\".join(x))\n",
    "SortedLetterSequence.take(3)"
   ]
  },
  {
   "cell_type": "code",
   "execution_count": 116,
   "metadata": {
    "collapsed": false
   },
   "outputs": [],
   "source": [
    "keyvaluerdd = words.map(lambda x: (\"\".join(sort(list(x))),x))"
   ]
  },
  {
   "cell_type": "code",
   "execution_count": 117,
   "metadata": {
    "collapsed": false
   },
   "outputs": [
    {
     "data": {
      "text/plain": [
       "[(u'aa', u'aa'),\n",
       " (u'aah', u'aah'),\n",
       " (u'aal', u'aal'),\n",
       " (u'aaiil', u'aalii'),\n",
       " (u'aaadkrrv', u'aardvark'),\n",
       " (u'aaadkrrsv', u'aardvarks')]"
      ]
     },
     "execution_count": 117,
     "metadata": {},
     "output_type": "execute_result"
    }
   ],
   "source": [
    "keyvaluerdd.take(6)"
   ]
  },
  {
   "cell_type": "code",
   "execution_count": 118,
   "metadata": {
    "collapsed": false
   },
   "outputs": [],
   "source": [
    "temp = keyvaluerdd.groupByKey()\n",
    "Anagrams = temp.map(lambda x: (x[0],len(list(x[1])),list(x[1])))"
   ]
  },
  {
   "cell_type": "code",
   "execution_count": 120,
   "metadata": {
    "collapsed": false
   },
   "outputs": [
    {
     "data": {
      "text/plain": [
       "[(u'aacikrtu', 1, [u'autarkic']),\n",
       " (u'aerrs', 2, [u'rears', u'serra']),\n",
       " (u'eiilrsttw', 1, [u'twirliest']),\n",
       " (u'eiills', 1, [u'lilies']),\n",
       " (u'ceilnrstu', 1, [u'linctures'])]"
      ]
     },
     "execution_count": 120,
     "metadata": {},
     "output_type": "execute_result"
    }
   ],
   "source": [
    "Anagrams.take(5)"
   ]
  },
  {
   "cell_type": "code",
   "execution_count": 126,
   "metadata": {
    "collapsed": true
   },
   "outputs": [],
   "source": [
    "maximum = Anagrams.filter(lambda x: x[1] == 11)"
   ]
  },
  {
   "cell_type": "code",
   "execution_count": 128,
   "metadata": {
    "collapsed": false
   },
   "outputs": [
    {
     "data": {
      "text/plain": [
       "[(u'aerst',\n",
       "  11,\n",
       "  [u'arets',\n",
       "   u'aster',\n",
       "   u'rates',\n",
       "   u'reast',\n",
       "   u'resat',\n",
       "   u'stare',\n",
       "   u'stear',\n",
       "   u'strae',\n",
       "   u'tares',\n",
       "   u'tears',\n",
       "   u'teras'])]"
      ]
     },
     "execution_count": 128,
     "metadata": {},
     "output_type": "execute_result"
    }
   ],
   "source": [
    "maximum.take(1)"
   ]
  },
  {
   "cell_type": "code",
   "execution_count": null,
   "metadata": {
    "collapsed": true
   },
   "outputs": [],
   "source": []
  }
 ],
 "metadata": {
  "kernelspec": {
   "display_name": "Python 2",
   "language": "python",
   "name": "python2"
  },
  "language_info": {
   "codemirror_mode": {
    "name": "ipython",
    "version": 2
   },
   "file_extension": ".py",
   "mimetype": "text/x-python",
   "name": "python",
   "nbconvert_exporter": "python",
   "pygments_lexer": "ipython2",
   "version": "2.7.10"
  }
 },
 "nbformat": 4,
 "nbformat_minor": 0
}
